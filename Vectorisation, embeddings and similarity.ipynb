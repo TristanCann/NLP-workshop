{
 "cells": [
  {
   "cell_type": "code",
   "execution_count": null,
   "id": "e3b63317",
   "metadata": {},
   "outputs": [],
   "source": [
    "import numpy as np\n",
    "import pandas as pd\n",
    "import sentence_transformers\n",
    "import nltk\n",
    "from sklearn.feature_extraction.text import CountVectorizer, TfidfVectorizer"
   ]
  },
  {
   "cell_type": "markdown",
   "id": "62928997",
   "metadata": {},
   "source": [
    "# Text vectorisation\n",
    "\n",
    "For most computational analysis of text, you need to determine an appropriate way to represent your text as numbers. Typically this uses embedding, the concept of representing a piece of text as a vector that becomes a geometric representation of the meaning of a text. Here we are going to discuss a few different ways to embed texts and discuss their strengths and weaknesses.\n",
    "\n",
    "This overview uses a collection of online news articles from October 2021 that use either of the terms `climate change` or `global warming`."
   ]
  },
  {
   "cell_type": "code",
   "execution_count": null,
   "id": "f4d2de22",
   "metadata": {},
   "outputs": [],
   "source": [
    "df_news = pd.read_json('data/cc_gw_news_blogs_2021-10-01_2021-10-31.json')"
   ]
  },
  {
   "cell_type": "markdown",
   "id": "be6102f2",
   "metadata": {},
   "source": [
    "The simplest way to represent text as a vector is a `bag of words` approach. This approach defines a corpus of words, corresponding to the elements of a vector, and counts their frequency within a text.\n",
    "\n",
    "Let's look at this for the first five headlines. Here the corpus will be all words that appear in the headlines."
   ]
  },
  {
   "cell_type": "code",
   "execution_count": null,
   "id": "527cb6ce",
   "metadata": {},
   "outputs": [],
   "source": [
    "headlines = [df_news.title[i].lower() for i in range(5)]\n",
    "corpus = list(set(' '.join(headlines).split()))\n",
    "print(corpus)"
   ]
  },
  {
   "cell_type": "markdown",
   "id": "99d92e46",
   "metadata": {},
   "source": [
    "There are also standard tools available to handle this through libraries like `sklearn`."
   ]
  },
  {
   "cell_type": "code",
   "execution_count": null,
   "id": "7df47098",
   "metadata": {},
   "outputs": [],
   "source": [
    "vectorizer = CountVectorizer()\n",
    "vectorizer.fit_transform(headlines)\n",
    "print(vectorizer.get_feature_names_out())"
   ]
  },
  {
   "cell_type": "markdown",
   "id": "c2ad35d6",
   "metadata": {},
   "source": [
    "Notice how we have slightly different terms in our corpus - this is because these standard libraries automatically include a range of preprocessing steps to streamline the text analysis process.\n",
    "\n",
    "Also, see how the corpus is already getting large - and you might realise that there are some words included that don't include much information such as `in`, `to`, `or`. We call these stopwords and have standard methods (and default lists) to remove them."
   ]
  },
  {
   "cell_type": "code",
   "execution_count": null,
   "id": "734a1c59",
   "metadata": {},
   "outputs": [],
   "source": [
    "vectorizer = CountVectorizer(stop_words='english')\n",
    "X = vectorizer.fit_transform(headlines)\n",
    "print(vectorizer.get_feature_names_out())"
   ]
  },
  {
   "cell_type": "markdown",
   "id": "416c00da",
   "metadata": {},
   "source": [
    "We can also provide custom lists of stopwords - it makes sense to ignore `climate` since it features in our search terms."
   ]
  },
  {
   "cell_type": "code",
   "execution_count": null,
   "id": "aa6df84e",
   "metadata": {},
   "outputs": [],
   "source": [
    "from sklearn.feature_extraction import _stop_words\n",
    "stop = list(_stop_words.ENGLISH_STOP_WORDS) + ['climate']\n",
    "vectorizer = CountVectorizer(stop_words=stop)\n",
    "X = vectorizer.fit_transform(headlines)\n",
    "print(vectorizer.get_feature_names_out())"
   ]
  },
  {
   "cell_type": "markdown",
   "id": "27e1914b",
   "metadata": {},
   "source": [
    "Note that `sklearn` only provides English language stopwords, but other libraries have similar tools with a wider range of languages. Let's now look at the vector representations of the headlines."
   ]
  },
  {
   "cell_type": "code",
   "execution_count": null,
   "id": "dee01368",
   "metadata": {},
   "outputs": [],
   "source": [
    "print(X.toarray())  ## The normal representation is more memory efficient, but this is easier for a human to read."
   ]
  },
  {
   "cell_type": "markdown",
   "id": "825f435c",
   "metadata": {},
   "source": [
    "There are a few points to note about bag of words representations. Firstly, the representation is typically quite sparse, that is most entries in the array are `0`, which means that most headlines only use a few words in the corpus. It's also rare for any of the entries to be greater than `1` - this is a feature of choosing short headlines as our corpus. The last issue to consider is we lose all relationship between words besides appearing in the same headline - we don't know if words are consecutive or at either end of the text. This vectorisation does allow us to quickly compare texts for linguistic overlap however.\n",
    "\n",
    "The next embedding technique we're going to look at is called term frequency-inverse document frequency (`TF-IDF`). TF-IDF is a great way to compare texts and identify which words are more important to a text. It does this be normalising the term frequency calculated in the bag of words representation by the inverse document frequency ('IDF'). The IDF is a measure of how common a term is across all the text you're comparing. By adding this factor, we penalise terms that are common to many text as we expect their frequency to be naturally higher. We calculate this representation in a similar way. "
   ]
  },
  {
   "cell_type": "code",
   "execution_count": null,
   "id": "57615cf0",
   "metadata": {},
   "outputs": [],
   "source": [
    "tf_vectorizer = TfidfVectorizer(stop_words=stop)\n",
    "X_tf = tf_vectorizer.fit_transform(headlines)\n",
    "print(tf_vectorizer.get_feature_names_out())\n",
    "print(X_tf.toarray())"
   ]
  },
  {
   "cell_type": "markdown",
   "id": "f9b1945a",
   "metadata": {},
   "source": [
    "While there is a limit to the conclusions that we can draw from such a small corpus, it does show the value of TF-IDF when comparing texts. Looking at the third row, we can see that each of its (present) features are scored highly - this tells us that the words used in that title are consistently unique with reference to the other headlines we consider.\n",
    "\n",
    "So far, the embedding schemes we've considered have maintained a direct link between the words in the text and the values in the representation. This can become unmanageable with larger corpora. Let's look at an example with the first 1000 article bodies."
   ]
  },
  {
   "cell_type": "code",
   "execution_count": null,
   "id": "8c29bfe7",
   "metadata": {},
   "outputs": [],
   "source": [
    "headlines = [df_news.body[i] for i in range(1000)]\n",
    "X_tf = tf_vectorizer.fit_transform(headlines)\n",
    "print(X_tf.toarray().shape)"
   ]
  },
  {
   "cell_type": "markdown",
   "id": "0f9e3437",
   "metadata": {},
   "source": [
    "Now we have vectors of 22,652 numbers for each piece of text in our corpus - and this issue only increase when you consider longer texts. Vectors of this size can be very slow for a number of computational methods so we need to reduce them."
   ]
  },
  {
   "cell_type": "markdown",
   "id": "bb206b0d",
   "metadata": {},
   "source": [
    "# Text embeddings\n",
    "\n",
    "Text embeddings are the next step in this process. They take high-dimensional vector representations like we've seen in the previous cases and *embed* them in lower-dimensional spaces. These spaces are typically trained on large volumes of text and can capture meaning in the proximity of the vectors.\n",
    "\n",
    "There are a number of different pre-trained models for deriving these embeddings, here we'll look at the one of the leading tools: `BERT`. BERT was one of the first large language models to be made publicly available and was trained on an extensive corpus of text from across the internet. Since its release, there have been a number of updated and fine-tuned models made available that leverage the general understanding of BERT.\n",
    "\n",
    "Many of these models are included in the `sentence_transformers` library and detailed on [Hugging Face](https://huggingface.co/). Here, we'll demonstrate the smallest model, but by updating the model name it is easy to access any of the available options."
   ]
  },
  {
   "cell_type": "code",
   "execution_count": null,
   "id": "9c3efec7",
   "metadata": {},
   "outputs": [],
   "source": [
    "sentence_model = sentence_transformers.SentenceTransformer('all-MiniLM-L6-v2')\n",
    "embeddings = sentence_model.encode(df_news.title[:1000], show_progress_bar=True)\n",
    "print(embeddings.shape)"
   ]
  },
  {
   "cell_type": "markdown",
   "id": "0f734c9f",
   "metadata": {},
   "source": [
    "These embeddings are correspond to a 384-dimension vector space such that texts that are close in the vector space are close in meaning. Note that this 384 dimension space is much smaller than the 22,652 dimensions we found with TF-IDF, even if this model is a little slower to produce embeddings.\n",
    "\n",
    "There are a few pros and cons to be aware of with text embeddings. Since the model we're applying to the embeddings, adding new data is easy and only needs computation on the new data (compared to TF-IDF which needs the IDF values to be updated). In addition, the notion of semantic similarity in this space makes it easier to compare the meaning of texts. The drawbacks to embeddings come in the representation. Unlike the bag of words and TF-IDF representations, BERT embeddings are data dense and can therefore become large for significant corpora. The dimensions of the vector space are also removed from the underlying meaning of the words - they are instead *latent* dimensions that collect the relevance of many underlying words.\n",
    "\n",
    "One other caveat to note is that some BERT models have limits to the length of text that they accept as an input. You may not encounter this with your data, but be aware that splitting longer texts may give more reliable measures of the semantic information in the text - the examples here are *sentence transformers*, designed to work on shorter texts.\n",
    "\n",
    "The notion of semantic similarity in the text embeddings means that we can determine if two texts have similar meaning by taking the cosine similarity of their embedding vectors. This measures their proximity in the embedding space - which is trained such that texts with similar meanings should be close. Identical texts will have a cosine similarity of 1, whereas dissimilar texts will have cosine similarity approaching 0."
   ]
  },
  {
   "cell_type": "code",
   "execution_count": null,
   "id": "a26a4fe7",
   "metadata": {},
   "outputs": [],
   "source": [
    "from sklearn.metrics.pairwise import cosine_similarity\n",
    "sents = ['I took a walk down the street.','I strolled along the road.','The cat ate its supper.']\n",
    "embs = sentence_model.encode(sents,show_progress_bar=True)\n",
    "print(cosine_similarity(embs))"
   ]
  },
  {
   "cell_type": "markdown",
   "id": "f518a2e7",
   "metadata": {},
   "source": [
    "## Exercises\n",
    "\n",
    "Here are some exercises to practice deriving a comparing representations of texts within a corpus.\n",
    "\n",
    "Find the five most similar headline among the first 1000 headlines to the provided text."
   ]
  },
  {
   "cell_type": "code",
   "execution_count": null,
   "id": "b423601b",
   "metadata": {},
   "outputs": [],
   "source": [
    "ref_text = ['President Biden visited other G7 leaders in London']"
   ]
  },
  {
   "cell_type": "markdown",
   "id": "e36e35d0",
   "metadata": {},
   "source": [
    "Which of the first 1000 articles uses *climate* the most?"
   ]
  },
  {
   "cell_type": "code",
   "execution_count": null,
   "id": "b92c32ee",
   "metadata": {},
   "outputs": [],
   "source": []
  }
 ],
 "metadata": {
  "kernelspec": {
   "display_name": "Python 3 (ipykernel)",
   "language": "python",
   "name": "python3"
  },
  "language_info": {
   "codemirror_mode": {
    "name": "ipython",
    "version": 3
   },
   "file_extension": ".py",
   "mimetype": "text/x-python",
   "name": "python",
   "nbconvert_exporter": "python",
   "pygments_lexer": "ipython3",
   "version": "3.12.9"
  }
 },
 "nbformat": 4,
 "nbformat_minor": 5
}

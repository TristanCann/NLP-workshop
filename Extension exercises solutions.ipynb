{
 "cells": [
  {
   "cell_type": "code",
   "execution_count": 1,
   "id": "b49935ac-cb9e-4aad-81ce-014ce6749e0b",
   "metadata": {},
   "outputs": [],
   "source": [
    "import numpy as np\n",
    "import pandas as pd\n",
    "import sentence_transformers\n",
    "import nltk\n",
    "from sklearn.feature_extraction.text import CountVectorizer, TfidfVectorizer\n",
    "from sklearn.metrics.pairwise import cosine_similarity\n",
    "import re\n",
    "import bertopic\n",
    "import spacy\n",
    "from transformers import pipeline\n",
    "import string\n",
    "from nltk.stem import PorterStemmer\n",
    "import matplotlib.pyplot as plt"
   ]
  },
  {
   "cell_type": "code",
   "execution_count": 2,
   "id": "3ecaf16c-f2a5-4206-935c-1f6187a0b969",
   "metadata": {},
   "outputs": [],
   "source": [
    "df_news = pd.read_json('data/cc_gw_news_blogs_2021-10-01_2021-10-31.json')\n",
    "\n",
    "# For testing purposes, you might find it helpful to cut this dataset down to only the first few articles.\n",
    "df_news = df_news.iloc[:800]"
   ]
  },
  {
   "cell_type": "markdown",
   "id": "994081ec-154e-4d4d-98c9-054ec782fd8c",
   "metadata": {},
   "source": [
    "## Challenge 1: Identifying characteristic words.\n",
    "One of the most valuable applications of TF-IDF is to use the IDF weighting to provide an explainable way to highlight the terms that are key to a given document. This can even be done across a group of documents, such as all those articles that are produced by the same news source.\n",
    "\n",
    "Explore the articles present in the provided example data and determine the five most characteristic words for each source. You should:\n",
    "1. Identify the total list of sources in the dataset.\n",
    "2. Group the article texts together to create a document for each source.\n",
    "3. Calculate the TF-IDF vectors for each source. Consider the use of custom stopword sets.\n",
    "4. Identify the tokens with maximum weight in each vector.\n",
    "\n",
    "Hint: TF-IDF methods include two parameters that affect the results: `max_df` and `min_df`. Review how they affect the results."
   ]
  },
  {
   "cell_type": "code",
   "execution_count": 3,
   "id": "fb45066a-cad6-4bc6-a6ab-87953ab819d3",
   "metadata": {},
   "outputs": [
    {
     "name": "stdout",
     "output_type": "stream",
     "text": [
      "['haidagwaiiobserver.com' 'worldbank.org' 'eurasiareview.com'\n",
      " 'stettlerindependent.com' 'reliefweb.int' 'bloombergquint.com'\n",
      " 'catholicnewsagency.com' 'cranbrooktownsman.com' 'dailyecho.co.uk'\n",
      " 'conservativeangle.com']\n"
     ]
    }
   ],
   "source": [
    "import tqdm\n",
    "#1. Get the list of all sources.\n",
    "# The source column has most of this, but we need to process the data a little first.\n",
    "df_news['source_uri'] = [u['uri'] for u in df_news.source]  ## Alternatively, set() could be applied to the list comprehension, but it's useful to save this.\n",
    "unique_sources = df_news['source_uri'].unique()\n",
    "print(unique_sources[:10])"
   ]
  },
  {
   "cell_type": "code",
   "execution_count": 4,
   "id": "a9140cb4-7a3a-42ed-a930-8a20d9484fcc",
   "metadata": {},
   "outputs": [
    {
     "name": "stderr",
     "output_type": "stream",
     "text": [
      "100%|██████████████████████████████| 509/509 [00:00<00:00, 628.90it/s]"
     ]
    },
    {
     "name": "stdout",
     "output_type": "stream",
     "text": [
      "Charles is expected to call for a \"vast military-style campaign\" to address urgent environmental iss\n"
     ]
    },
    {
     "name": "stderr",
     "output_type": "stream",
     "text": [
      "\n"
     ]
    }
   ],
   "source": [
    "#2. Group the article texts for each source into one document.\n",
    "# For now we'll record this in a dictionary domain: string to keep the link between source and the full text.\n",
    "source_text = {}\n",
    "for u in tqdm.tqdm(unique_sources):  # tqdm is very handy to add a progress bar and indicate roughly how long it will take to execute this for loop.\n",
    "    df_u = df_news[df_news.source_uri==u]\n",
    "    source_text[u] = ' '.join(df_u.body)\n",
    "print(source_text['dailyecho.co.uk'][:100])"
   ]
  },
  {
   "cell_type": "code",
   "execution_count": 5,
   "id": "6bd21bee-f167-4f5d-8502-21e6ea7e20f4",
   "metadata": {},
   "outputs": [
    {
     "name": "stdout",
     "output_type": "stream",
     "text": [
      "['000' '10' '100' ... 'zero' 'zeshan' 'zone']\n"
     ]
    }
   ],
   "source": [
    "#3. Calculate the TF-IDF vectors for the sources. Consider the use of custom stop words.\n",
    "# We should first define our list of stopwords, then we can just apply the example code we saw before.\n",
    "from sklearn.feature_extraction import _stop_words\n",
    "stop = list(_stop_words.ENGLISH_STOP_WORDS) + ['climate', 'change', 'global', 'warming']  ## These terms should be removed as they're part of our search terms.\n",
    "stop += ['comment', 'subscribe', 'cookie', 'accept', 'reject']  ## Add in some terms that might appear from online data quirks (not at all an exhaustive list).\n",
    "\n",
    "tf_vectorizer = TfidfVectorizer(stop_words=stop,max_df=0.5,min_df=10) ## Using max_df and min_df we automatically ignore terms in more than half of all sources and in fewer than 10 sources.\n",
    "X_tf = tf_vectorizer.fit_transform([source_text[u] for u in unique_sources])  ## We need to use this list comprehension to ensure that the order matches.\n",
    "print(tf_vectorizer.get_feature_names_out())"
   ]
  },
  {
   "cell_type": "code",
   "execution_count": 6,
   "id": "0c83459c-7f9b-4d01-b734-1cdeaf0c1cec",
   "metadata": {},
   "outputs": [
    {
     "name": "stdout",
     "output_type": "stream",
     "text": [
      "['action', 'health', 'pollution', 'ride', 'air']\n",
      "['facility', 'bank', 'insurance', 'disaster', 'risk']\n",
      "['program', 'biden', 'blinken', 'americans', 'iran']\n"
     ]
    }
   ],
   "source": [
    "#4. Identify the tokens with maximum weight in each document.\n",
    "# Each row in X_tf corresponds to a particular source, whereas the columns refer to the feature names (i.e. words).\n",
    "feature_names = tf_vectorizer.get_feature_names_out()\n",
    "\n",
    "source_key_terms = {}\n",
    "for i,u in enumerate(unique_sources):\n",
    "    max_cols = np.argsort(X_tf[i].toarray())  ## We need to make a dense array for the sorting function to work.\n",
    "    source_key_terms[u] = [feature_names[j] for j in max_cols[0,-5:]]\n",
    "\n",
    "print(source_key_terms['dailyecho.co.uk'])\n",
    "print(source_key_terms['worldbank.org'])\n",
    "print(source_key_terms['conservativeangle.com'])"
   ]
  },
  {
   "cell_type": "code",
   "execution_count": 7,
   "id": "766d7124-444d-4ea3-8ea1-e5216357a491",
   "metadata": {},
   "outputs": [
    {
     "data": {
      "text/plain": [
       "['credits', 'zealand', 'forests', 'wood', 'forest']"
      ]
     },
     "execution_count": 7,
     "metadata": {},
     "output_type": "execute_result"
    }
   ],
   "source": [
    "source_key_terms['timberbiz.com.au']"
   ]
  },
  {
   "cell_type": "code",
   "execution_count": 8,
   "id": "251d52fe-a376-4097-97e5-2d0f3bb76b9d",
   "metadata": {},
   "outputs": [],
   "source": [
    "# We can see from checking through these key terms that we can begin to characterise the sources based on the types of words that they prefer to use.\n",
    "# This can reveal elements of topic focus or region of interest or political leaning from even just a few most characteristic terms.\n",
    "# This is an application that really benefits from having a big dataset. You need to see a lot of content to start getting enough term frequency to \n",
    "# see the most important terms.\n",
    "# One key thing that should be clear here is the explainability of TF-IDF. We can link our statistical results back to the very tokens we started with.\n",
    "# This is a key advantage of these simpler methods over transformers!"
   ]
  },
  {
   "cell_type": "markdown",
   "id": "14a8457d-9ede-4e48-a82b-b8b7aa5995fc",
   "metadata": {},
   "source": [
    "## Challenge 2: n-gram construction.\n",
    "Words are not the only sub-sentence unit used to study linguistic patterns in natural language processing. A more general unit called an `n-gram` defines sequences of `n` consecutive words extracted from a text. For example, `2-grams` or `bigrams` are pairs of words appearing consecutively in a given string. More concretely, given the text `This is example text` would return the following bigrams: `this is`, `is example`, `example text`.\n",
    "\n",
    "Using different values of `n`, look for different n-gram patterns appearing the the titles and body text for the provided example dataset. You should:\n",
    "1. Write a custom function to calculate all n-grams of a given string. This function should include optional stopword removal.\n",
    "2. Compare the bigram frequency values both before and after removing stopwords from the text.\n",
    "3. Find the most frequent 4-grams that include `climate` and the most frequent 4-grams that include `change`. Determine the overlap between these sets of 4-grams (i.e. those that include both `climate` and `change`.\n",
    "4. Find the the set of 5-grams that contain `climate`. After partitioning the example dataset into one-day windows, can you see any patterns in how the usage of `climate` varies over time? Hint: you will need a larger sample or different sampling strategy to see more than one day included in the data."
   ]
  },
  {
   "cell_type": "code",
   "execution_count": 9,
   "id": "ea64fee8-1fa9-4aa9-bf66-0aeec754c792",
   "metadata": {},
   "outputs": [
    {
     "name": "stdout",
     "output_type": "stream",
     "text": [
      "['this is', 'is example', 'example text']\n",
      "['this example', 'example text']\n"
     ]
    }
   ],
   "source": [
    "#1. Write a custom n-gram extraction function.\n",
    "# This function should take a string and integer as inputs, along with an optional list of stopwords.\n",
    "\n",
    "def get_n_grams(s,n,stopwords=None):\n",
    "    \"\"\" Extract all n-grams of the given string, optionally removing stopwords first. \n",
    "        \n",
    "        Inputs:\n",
    "        s - string, the text to be split into stopwords.\n",
    "        n - integer, the size of n-gram to be recovered.\n",
    "        stopwords - list of strings (optional), a set of stopwords to be removed. \"\"\"\n",
    "\n",
    "    s = s.lower()\n",
    "    words = s.split() # By default, split separates the string on spaces. There are other ways to convert a sentence into words however.\n",
    "\n",
    "    if stopwords != None:\n",
    "        words = [w for w in words if w not in stopwords]  # It's important to note that we are preserving the order here, some methods will give a bag of words!\n",
    "\n",
    "    return [' '.join(words[i:i+n]) for i in range(len(words)-n+1)]  # This returns sliding windows over the final word set.\n",
    "\n",
    "print(get_n_grams('This is example text',2))\n",
    "print(get_n_grams('This is example text',2,['is']))\n",
    "\n",
    "# Note that nltk has a function that does some of this, but expects slightly different inputs."
   ]
  },
  {
   "cell_type": "code",
   "execution_count": 10,
   "id": "2df70436-3a06-4819-8a7b-7e9ab63c816a",
   "metadata": {},
   "outputs": [
    {
     "name": "stdout",
     "output_type": "stream",
     "text": [
      "Most common bigrams in titles without stopword removal: [('climate change', 88), ('progress made', 75), ('made at', 75), ('at g20,', 73), ('canada wanted', 73)]\n",
      "Most common bigrams in titles with stopword removal: [('canada wanted', 73), ('wanted ambitious', 73), ('ambitious plan', 73), ('trudeau progress', 72), ('progress g20,', 72)]\n",
      "Most common bigrams in bodies without stopword removal: [('of the', 4006), ('in the', 1887), ('to the', 1594), ('at the', 1391), ('climate change', 1302)]\n",
      "Most common bigrams in bodies with stopword removal: [('prime minister', 649), ('world leaders', 455), ('net zero', 436), ('biden said', 433), ('group 20', 332)]\n"
     ]
    }
   ],
   "source": [
    "#2. Compare the bigram frequency both before and after removing stopwords from the text.\n",
    "# We should first define our set of stopwords, then we can apply the function we just wrote (or any equivalent) to get the set of stopwords.\n",
    "\n",
    "import collections\n",
    "from sklearn.feature_extraction import _stop_words\n",
    "\n",
    "stop = list(_stop_words.ENGLISH_STOP_WORDS) + ['climate', 'change', 'global', 'warming']  ## These terms should be removed as they're part of our search terms.\n",
    "stop += ['comment', 'subscribe', 'cookie', 'accept', 'reject']  ## Add in some terms that might appear from online data quirks (not at all an exhaustive list).\n",
    "stop += ['breaking','news','says']  ## Add some news specific terms that are more likely to appear in headlines.\n",
    "\n",
    "title_bigrams = collections.Counter([b for t in df_news.title for b in get_n_grams(t,2)])\n",
    "print(f'Most common bigrams in titles without stopword removal: {title_bigrams.most_common(5)}')\n",
    "\n",
    "title_bigrams = collections.Counter([b for t in df_news.title for b in get_n_grams(t,2,stop)])\n",
    "print(f'Most common bigrams in titles with stopword removal: {title_bigrams.most_common(5)}')\n",
    "\n",
    "body_bigrams = collections.Counter([b for t in df_news.body for b in get_n_grams(t,2)])\n",
    "print(f'Most common bigrams in bodies without stopword removal: {body_bigrams.most_common(5)}')\n",
    "\n",
    "body_bigrams = collections.Counter([b for t in df_news.body for b in get_n_grams(t,2,stop)])\n",
    "print(f'Most common bigrams in bodies with stopword removal: {body_bigrams.most_common(5)}')\n",
    "\n",
    "## It should be clear here that the removal of stopwords is very important, without this step you will start to see common English constructions as the most frequent patterns."
   ]
  },
  {
   "cell_type": "code",
   "execution_count": 11,
   "id": "b7244ae0-c769-4a22-bbf0-66384c22b710",
   "metadata": {},
   "outputs": [
    {
     "name": "stdout",
     "output_type": "stream",
     "text": [
      "Most common \"climate\" 4-grams in titles: [('trudeau says climate progress', 72), ('says climate progress made', 72), ('climate progress made at', 72), (\"ex-un climate chief doesn't\", 43), (\"climate chief doesn't see\", 43)]\n",
      "Most common \"change\" 4-grams in titles: [('clock on climate change', 30), ('on climate change and', 23), ('climate change and must', 23), ('change and must act', 23), ('un climate change conference', 6)]\n",
      "\n",
      "4-grams using both \"climate\" and \"change\": [('clock on climate change', 30), ('on climate change and', 23), ('climate change and must', 23), ('un climate change conference', 6), ('climate change conference begins', 6)]\n",
      "\n",
      "Most common \"climate\" 4-grams in bodies: [('cop26 climate talks in', 99), ('the fight against climate', 85), ('fight against climate change', 76), ('climate talks in glasgow', 76), ('against climate change than', 74)]\n",
      "Most common \"change\" 4-grams in bodies: [('fight against climate change', 76), ('against climate change than', 74), ('climate change than others,\"', 74), ('change than others,\" trudeau', 73), ('on climate change to', 72)]\n",
      "\n",
      "4-grams using both \"climate\" and \"change\": [('fight against climate change', 76), ('against climate change than', 74), ('climate change than others,\"', 74), ('on climate change to', 72), ('agreement on climate change', 71)]\n"
     ]
    }
   ],
   "source": [
    "#3. Find the most frequent 4-grams with 'climate' or 'change' and the intersection of these sets.\n",
    "# We will have to adjust our stopword set to allow for 'climate' and 'change' for this to work.\n",
    "# We might even find it is OK to leave the stopwords in - as n increases, the impact of stopwords is likely to decrease.\n",
    "\n",
    "climate_title_grams = collections.Counter([b for t in df_news.title for b in get_n_grams(t,4) if 'climate' in b])\n",
    "print(f'Most common \"climate\" 4-grams in titles: {climate_title_grams.most_common(5)}')\n",
    "\n",
    "change_title_grams = collections.Counter([b for t in df_news.title for b in get_n_grams(t,4) if 'change' in b])\n",
    "print(f'Most common \"change\" 4-grams in titles: {change_title_grams.most_common(5)}')\n",
    "\n",
    "# The Counter class has short hands for intersection - we can use &.\n",
    "print(f'\\n4-grams using both \"climate\" and \"change\": {(climate_title_grams & change_title_grams).most_common(5)}')\n",
    "\n",
    "climate_body_grams = collections.Counter([b for t in df_news.body for b in get_n_grams(t,4) if 'climate' in b])\n",
    "print(f'\\nMost common \"climate\" 4-grams in bodies: {climate_body_grams.most_common(5)}')\n",
    "\n",
    "change_body_grams = collections.Counter([b for t in df_news.body for b in get_n_grams(t,4) if 'change' in b])\n",
    "print(f'Most common \"change\" 4-grams in bodies: {change_body_grams.most_common(5)}')\n",
    "\n",
    "# The Counter class has short hands for intersection - we can use &.\n",
    "print(f'\\n4-grams using both \"climate\" and \"change\": {(climate_body_grams & change_body_grams).most_common(5)}')\n",
    "\n",
    "# Considering these patterns together, we find that \"climate\" is often used alone or with other terms, whereas this context has a strong bias towards\n",
    "# \"change\" appearing after \"climate\"."
   ]
  },
  {
   "cell_type": "code",
   "execution_count": 12,
   "id": "cb8b4933-32a0-4348-896f-6b9eebe7251a",
   "metadata": {},
   "outputs": [
    {
     "name": "stdout",
     "output_type": "stream",
     "text": [
      "[('the fight against climate change', 76), ('on the fight against climate', 74), ('fight against climate change than', 74), ('against climate change than others,\"', 74), ('cop26 climate talks in glasgow', 74), ('climate change than others,\" trudeau', 73), ('more ambitious agreement on climate', 71), ('ambitious agreement on climate change', 71), ('agreement on climate change to', 71), ('on climate change to emerge', 71)]\n"
     ]
    },
    {
     "name": "stderr",
     "output_type": "stream",
     "text": [
      "100%|█████████████████████████████████| 31/31 [00:00<00:00, 39.39it/s]\n"
     ]
    },
    {
     "data": {
      "image/png": "[encoded data removed]",
      "text/plain": [
       "<Figure size 640x480 with 1 Axes>"
      ]
     },
     "metadata": {},
     "output_type": "display_data"
    }
   ],
   "source": [
    "#5. Find the set of five grams containing \"climate change\" and track their usage patterns between days.\n",
    "# For ease of checking this (and ensuring we have enough data), we should restrict to only looking at some of the most frequent terms.\n",
    "\n",
    "body_five_grams = collections.Counter([b for t in df_news.body for b in get_n_grams(t,5) if 'climate' in b])\n",
    "print(body_five_grams.most_common(10))\n",
    "\n",
    "day_counts = {k:[] for k,v in body_five_grams.most_common(10)}  # We make a dictionary of terms and the count of the term on each day.\n",
    "# The easiest way to get the daily rate is to sequentially filter the dataframe.\n",
    "for day in tqdm.tqdm(range(1,32)):\n",
    "    df_day = df_news[df_news.date == f'2021-10-{day}']\n",
    "    day_five_grams = collections.Counter([b for t in df_day.body for b in get_n_grams(t,5) if 'climate' in b])\n",
    "\n",
    "    for k in day_counts:\n",
    "        day_counts[k].append(day_five_grams[k])\n",
    "\n",
    "# Finally we can plot the timeseries for each 5-gram.\n",
    "import matplotlib.pyplot as plt\n",
    "dates = pd.date_range('2021-10-01','2021-10-31')\n",
    "for k in day_counts:\n",
    "    plt.plot(dates,day_counts[k],label=k)\n",
    "plt.legend()\n",
    "plt.show()"
   ]
  },
  {
   "cell_type": "code",
   "execution_count": 13,
   "id": "f2b2ffe9-f69b-407d-b8b2-8c996a0665b3",
   "metadata": {},
   "outputs": [],
   "source": [
    "# We can see quite clearly that the usage of these terms is not uniformly distributed across the whole month of data.\n",
    "# There is a large increase in the discussion of \"social services and climate change\". This happened because of changes to US legislation\n",
    "# proposed by the Biden administration in this area.\n",
    "# Many of the other terms are linked to international politics and discussions around climate change - e.g. the IPCC and UNFCCC."
   ]
  },
  {
   "cell_type": "markdown",
   "id": "de88e800-ed63-45a0-a990-a7d8fff5fac0",
   "metadata": {},
   "source": [
    "## Challenge 3: Narrative consistency.\n",
    "Text data can be difficult to work with for many reasons, mainly due to it being noisy and needing careful cleaning. The example data you were given contains a particular issue with portions of the text that may be apparently unrelated to the major themes of the text. This is an inevitable consequence of the data source; it is provided by a service that collects and formats online news articles and this sometimes includes text from web features (e.g. other story links) being incorrectly included in the main text. Luckily, we can use some of the techniques we introduced previously to look for divergence in the semantic content of portions of the text.\n",
    "\n",
    "Look for evidence of narrative inconsistency in the body text of the example data. You should:\n",
    "1. Determine an appropriate unit of analysis to partition the article into, and preprocess the data into these units.\n",
    "2. Describe an algorithm to measure the internal narrative consistency of an article that uses these sub-article units.\n",
    "3. Apply this algorithm to quantify the narrative consistency of all articles in the example dataset. Which articles are the most and least narratively consistent?\n",
    "\n",
    "Hint: Consider mapping the semantic space covered by the article. Which articles cover the largest or smallest semantic space?"
   ]
  },
  {
   "cell_type": "code",
   "execution_count": 14,
   "id": "2ee3ca83-ba96-4857-8559-89469c81f538",
   "metadata": {},
   "outputs": [
    {
     "name": "stderr",
     "output_type": "stream",
     "text": [
      "100%|███████████████████████████████| 800/800 [05:29<00:00,  2.43it/s]\n"
     ]
    }
   ],
   "source": [
    "#1. Determine an appropriate unit of analysis to split the articles into.\n",
    "## There are two natural choices to split the articles up: sentences or paragraphs. We can try both.\n",
    "nlp = spacy.load(\"en_core_web_sm\")\n",
    "nlp.add_pipe('sentencizer')\n",
    "sentences = [list(map(str,nlp(t).sents)) for t in tqdm.tqdm(df_news.body)]\n",
    "paragraphs = [t.split('\\n\\n') for t in df_news.body]\n",
    "## Here we're demonstrating two different methods to manage this splitting - using either basic string methods or more complex langauge models that\n",
    "## can hanndle more complex text structures."
   ]
  },
  {
   "cell_type": "code",
   "execution_count": 15,
   "id": "5a112c54-f722-4691-84ac-7b7dd3ceb439",
   "metadata": {
    "scrolled": true
   },
   "outputs": [
    {
     "name": "stdout",
     "output_type": "stream",
     "text": [
      "0.8466449\n",
      "0.50020236\n"
     ]
    }
   ],
   "source": [
    "#2. Describe an algorithm for measuring the internal narrative consistency of an article.\n",
    "## There are a number of ways you could do this. The solution outlined here is designed to consider the semantic space covered by the parts of the article.\n",
    "def measure_semantic_range(texts,model):\n",
    "    \"\"\" Calculate the mean semantic similarity between all pairs of the provided texts. Higher similiarity means higher semantic consistency.\n",
    "        Inputs:\n",
    "        texts - an iterable of strings of all texts to be compared.\n",
    "        model - an embedding model object.\n",
    "        Outputs:\n",
    "        mean - float, the mean pairwise similarity of all texts.\n",
    "        \"\"\"\n",
    "\n",
    "    # Get the text embeddings.\n",
    "    embeddings = emb_model.encode(texts, show_progress_bar=False)\n",
    "\n",
    "    # Find the pairwise distances.\n",
    "    sims = cosine_similarity(embeddings)\n",
    "\n",
    "    return np.mean(sims)\n",
    "    \n",
    "emb_model = sentence_transformers.SentenceTransformer('all-MiniLM-L6-v2')\n",
    "test_text = ['I like to eat oranges','I like to eat apples']\n",
    "print(measure_semantic_range(test_text,emb_model))\n",
    "test_text = ['I like to eat oranges','Juliet went to Paris']\n",
    "print(measure_semantic_range(test_text,emb_model))\n",
    "    \n",
    "## This is one of the simplest possible ways to do this, and collapses the richness of the entire article down into a single numerical value.\n",
    "## You might try taking the largest or the standard deviation but they each have specific drawbacks. Here we pick the mean so that if most of the\n",
    "## article is on the same theme, it should give a lower average distance."
   ]
  },
  {
   "cell_type": "code",
   "execution_count": 16,
   "id": "7af9d2d8-26e6-4c66-a83b-01f89e070576",
   "metadata": {},
   "outputs": [
    {
     "name": "stderr",
     "output_type": "stream",
     "text": [
      "100%|███████████████████████████████| 800/800 [07:50<00:00,  1.70it/s]\n",
      "100%|███████████████████████████████| 800/800 [06:57<00:00,  1.92it/s]"
     ]
    },
    {
     "name": "stdout",
     "output_type": "stream",
     "text": [
      "The most sentence-consistent article is Success is entirely possible: COP26 opens amid flurry of fresh national climate pledges (michael.holder@incisivemedia.com(Michael Holder)/Business Green) by techinvestornews.com\n",
      "The least sentence-consistent article is Your Monday Briefing by nytimes.com\n",
      "The most paragraph-consistent article is UN Climate Change Conference begins by theaustralian.com.au\n",
      "The least paragraph-consistent article is Your Monday Briefing by nytimes.com\n"
     ]
    },
    {
     "name": "stderr",
     "output_type": "stream",
     "text": [
      "\n"
     ]
    }
   ],
   "source": [
    "#3. Quantify the narrative consistency of all articles in the dataset. Which are most and least consistent?\n",
    "sent_consistencies = [measure_semantic_range(t,emb_model) for t in tqdm.tqdm(sentences)]\n",
    "para_consistencies = [measure_semantic_range(t,emb_model) for t in tqdm.tqdm(paragraphs)]\n",
    "\n",
    "sent_max_consist = np.argmax(sent_consistencies)\n",
    "print(f'The most sentence-consistent article is {df_news.title.iloc[sent_max_consist]} by {df_news.source_uri.iloc[sent_max_consist]}')\n",
    "\n",
    "sent_min_consist = np.argmin(sent_consistencies)\n",
    "print(f'The least sentence-consistent article is {df_news.title.iloc[sent_min_consist]} by {df_news.source_uri.iloc[sent_min_consist]}')\n",
    "\n",
    "para_max_consist = np.argmax(para_consistencies)\n",
    "print(f'The most paragraph-consistent article is {df_news.title.iloc[para_max_consist]} by {df_news.source_uri.iloc[para_max_consist]}')\n",
    "\n",
    "para_min_consist = np.argmin(para_consistencies)\n",
    "print(f'The least paragraph-consistent article is {df_news.title.iloc[para_min_consist]} by {df_news.source_uri.iloc[para_min_consist]}')"
   ]
  },
  {
   "cell_type": "code",
   "execution_count": 17,
   "id": "d513233a-5f2b-4527-ae11-b26a3376b875",
   "metadata": {},
   "outputs": [
    {
     "data": {
      "text/plain": [
       "(array([ 24., 104., 230., 268., 108.,  43.,  13.,   4.,   3.,   3.]),\n",
       " array([0.11621352, 0.17875826, 0.24130301, 0.30384776, 0.36639249,\n",
       "        0.42893726, 0.49148202, 0.55402672, 0.61657149, 0.67911625,\n",
       "        0.74166101]),\n",
       " <BarContainer object of 10 artists>)"
      ]
     },
     "execution_count": 17,
     "metadata": {},
     "output_type": "execute_result"
    },
    {
     "data": {
      "image/png": "[encoded data removed]",
      "text/plain": [
       "<Figure size 640x480 with 1 Axes>"
      ]
     },
     "metadata": {},
     "output_type": "display_data"
    }
   ],
   "source": [
    "plt.hist(sent_consistencies)\n",
    "## Looking at the histogram of sentence consistencies tells us something useful. Most of the time, the articles are quite variable (i.e. their\n",
    "## similarity is comparatively low). There is a longer tail for some of the articles that display a high level of internal consistency."
   ]
  },
  {
   "cell_type": "code",
   "execution_count": 18,
   "id": "139233da-3d35-497a-bc74-a6b589af9b9e",
   "metadata": {},
   "outputs": [
    {
     "data": {
      "text/plain": [
       "(array([ 23., 112., 355., 201.,  68.,  18.,   7.,   5.,   1.,  10.]),\n",
       " array([0.11670735, 0.20503661, 0.2933659 , 0.38169518, 0.47002444,\n",
       "        0.55835366, 0.64668298, 0.73501223, 0.82334149, 0.91167074,\n",
       "        1.        ]),\n",
       " <BarContainer object of 10 artists>)"
      ]
     },
     "execution_count": 18,
     "metadata": {},
     "output_type": "execute_result"
    },
    {
     "data": {
      "image/png": "[encoded data removed]",
      "text/plain": [
       "<Figure size 640x480 with 1 Axes>"
      ]
     },
     "metadata": {},
     "output_type": "display_data"
    }
   ],
   "source": [
    "plt.hist(para_consistencies)\n",
    "## Paragraph-level results are broadly similar, although here the tail for higher values is longer. You should notice a possible weakness with the\n",
    "## method here. When the article is short, it may only be one sentence or paragraph. As a result, the self-similarity will be very high. This is what\n",
    "## has happened in the paragraph case here, with the most consistent article having a single paragraph."
   ]
  },
  {
   "cell_type": "markdown",
   "id": "9863f6ac-a577-4a34-b376-06eaa0b765a6",
   "metadata": {},
   "source": [
    "## Challenge 4: Positivity and negativity in narratives.\n",
    "The precise dataset and seeding applied to topic modelling can make a big difference to the results. Sometimes this can mean that the detected topics may miss some of the smaller, more nuanced themes. This means it is often a good idea to consider a few different outputs from topic modelling under a range of paramter values. At this stage, confidence in the model outputs can be determined by aggregate the common patterns appearing across different runs.\n",
    "\n",
    "Compare the topics identified in different perspectives on the example data. You should:\n",
    "1. Apply the BERTopic framework with several different parameter combinations in the UMAP and HDBSCAN processes. Do you notice any topics that are consistent over runs?\n",
    "2. Partition the news dataset into three sets of articles based on valence (i.e. positive, neutral, negative). What proportion of articles fall in each category? How sensitive is this value to the method of sentiment analysis applied?\n",
    "3. Visualise the semantic space for the entire corpus. Are there any spatial patterns emerging based on the article valence?\n",
    "4. Apply BERTopic to each subset. Compare the topics found on each subet of the dataset to those found over all texts."
   ]
  },
  {
   "cell_type": "code",
   "execution_count": 19,
   "id": "99dd84a4-0ce9-4868-9995-179e0717a6a5",
   "metadata": {},
   "outputs": [
    {
     "data": {
      "application/vnd.jupyter.widget-view+json": {
       "model_id": "90c07f147d6f452a8ebe9db9684bf9ce",
       "version_major": 2,
       "version_minor": 0
      },
      "text/plain": [
       "Batches:   0%|          | 0/25 [00:00<?, ?it/s]"
      ]
     },
     "metadata": {},
     "output_type": "display_data"
    }
   ],
   "source": [
    "# The embedding process can be quite slow (this depends a lot on your hardware and the size of the dataset).\n",
    "# We can save a lot of time when experimenting with different parameter combinations by saving and reusing the embeddings.\n",
    "embed_model = sentence_transformers.SentenceTransformer('all-MiniLM-L6-v2')\n",
    "embeddings = embed_model.encode(df_news.body, show_progress_bar=True)"
   ]
  },
  {
   "cell_type": "code",
   "execution_count": 20,
   "id": "94c8da26-851b-44e9-bace-faa44c411c1f",
   "metadata": {},
   "outputs": [],
   "source": [
    "#1. Rerun BERTopic with multiple seeds. Which topics are consistent?\n",
    "# We can define custom UMAP and HDBSCAN objects for BERTopic.\n",
    "from umap import UMAP\n",
    "from hdbscan import HDBSCAN\n",
    "umap_model = UMAP(n_neighbors=15,  ## This sets the same defaults as BERTopic, except with the addition of a fixed seed.\n",
    "            n_components=5,\n",
    "            min_dist=0.0,\n",
    "            metric='cosine',\n",
    "            low_memory=False,\n",
    "            random_state=42)\n",
    "hdbscan_model = HDBSCAN(min_cluster_size=15, metric='euclidean', cluster_selection_method='eom', prediction_data=True)\n",
    "topic_model = bertopic.BERTopic(umap_model=umap_model,hdbscan_model=hdbscan_model)\n",
    "topics, probs = topic_model.fit_transform(df_news.body,embeddings)\n",
    "\n",
    "# When varying the parameters on a given sample you should notice a few things. The larger topics should be recovered\n",
    "# relatively consistently, but the precise sizes and ordering of these topics will vary. The HDBScan parameters will have\n",
    "# the biggest impact on the number of topics identified since it determines the final clusters.\n",
    "\n",
    "# The 'noise' topic with label -1 will also vary and can even merge with some of the smaller topics in certain circumstances.\n",
    "# These topics are typically not considered as important for precisely this reason - in practice only the largest topics\n",
    "# are explored in any detail."
   ]
  },
  {
   "cell_type": "code",
   "execution_count": 21,
   "id": "bbe77e1d-2e46-4978-a27d-9ddbcc881f5f",
   "metadata": {},
   "outputs": [
    {
     "name": "stderr",
     "output_type": "stream",
     "text": [
      "Some weights of the model checkpoint at cardiffnlp/twitter-roberta-base-sentiment-latest were not used when initializing RobertaForSequenceClassification: ['roberta.pooler.dense.bias', 'roberta.pooler.dense.weight']\n",
      "- This IS expected if you are initializing RobertaForSequenceClassification from the checkpoint of a model trained on another task or with another architecture (e.g. initializing a BertForSequenceClassification model from a BertForPreTraining model).\n",
      "- This IS NOT expected if you are initializing RobertaForSequenceClassification from the checkpoint of a model that you expect to be exactly identical (initializing a BertForSequenceClassification model from a BertForSequenceClassification model).\n",
      "Device set to use cpu\n"
     ]
    },
    {
     "name": "stdout",
     "output_type": "stream",
     "text": [
      "11.875% of articles are positive.\n",
      "79.625% of articles are neutral.\n",
      "8.5% of articles are negative.\n"
     ]
    }
   ],
   "source": [
    "#2. Partition articles based on sentiment, and proportion of articles in each.\n",
    "# There are a lot of different sentiment analysis tools, each will be trained for a specific purpose. Selecting the right model is a skill, and it is\n",
    "# OK to experiment with a few different options before validating them on a known dataset. Here I'm using a general one from HuggingFace, that gives \n",
    "# predictions for positive, neutral and negative classes.\n",
    "sentiment_task = pipeline(\"sentiment-analysis\", model='cardiffnlp/twitter-roberta-base-sentiment-latest', tokenizer='cardiffnlp/twitter-roberta-base-sentiment-latest',max_length=512,truncation=True)\n",
    "sentiments = [sentiment_task(t)[0]['label'] for t in df_news.body] # You will find the article bodies are too long for some transformers so truncation is required! The titles don't\n",
    "# have much in the way of strong opinion identifiers however. You may also be able to do this more efficiently - certain transformer setups can take lists or series of texts.\n",
    "df_news['nlp_sent'] = sentiments\n",
    "df_pos = df_news[df_news.nlp_sent == 'positive']\n",
    "df_neu = df_news[df_news.nlp_sent == 'neutral']\n",
    "df_neg = df_news[df_news.nlp_sent == 'negative']\n",
    "\n",
    "print(f'{100*len(df_pos)/len(df_news)}% of articles are positive.')\n",
    "print(f'{100*len(df_neu)/len(df_news)}% of articles are neutral.')\n",
    "print(f'{100*len(df_neg)/len(df_news)}% of articles are negative.')"
   ]
  },
  {
   "cell_type": "code",
   "execution_count": 22,
   "id": "8f1cb3af-fb30-4b3e-a0af-3f74258a1768",
   "metadata": {},
   "outputs": [
    {
     "data": {
      "text/plain": [
       "<matplotlib.collections.PathCollection at 0x29a7f0ab380>"
      ]
     },
     "execution_count": 22,
     "metadata": {},
     "output_type": "execute_result"
    },
    {
     "data": {
      "image/png": "[encoded data removed]",
      "text/plain": [
       "<Figure size 640x480 with 1 Axes>"
      ]
     },
     "metadata": {},
     "output_type": "display_data"
    }
   ],
   "source": [
    "#3. Visualise the semantic space. Where do positive/neutral/negative articles fit in this space?\n",
    "# Now we have saved the emebddings, we can visualise their relationships spatially. The challenge here is visualising some high dimensional vector\n",
    "# in 2 or 3 dimensions. This is where dimensionality reduction comes in. There are a few ways to do this - one of which is already included as part\n",
    "# of BERTopic.\n",
    "low_dim_model = UMAP(n_neighbors=15,  ## This sets the same defaults as BERTopic, except with the addition of a fixed seed.\n",
    "            n_components=2,\n",
    "            min_dist=0.0,\n",
    "            metric='cosine',\n",
    "            low_memory=False,\n",
    "            random_state=42)\n",
    "emb_2d = low_dim_model.fit_transform(embeddings)\n",
    "\n",
    "col_map = {'positive':'green','neutral':'gold','negative':'red'}\n",
    "plt.scatter(emb_2d[:,0],emb_2d[:,1],color=[col_map[s] for s in df_news.nlp_sent],alpha=0.3)\n",
    "\n",
    "# You should notice in the figure below that there is a separation between a majority positive section and the rest of the texts and likely a few\n",
    "# floating islands of similar texts. Here we are really looking at two diffent aspects of the text in one space. The spatial layout is linked to the\n",
    "# meaning of the text, and this is not always directly linked to the sentiment expressed.\n",
    "\n",
    "# One key thing to note is how the visualisation here will depend exactly on the sample that you use. The example dataset you were provided is sampled\n",
    "# based on time - it considers articles from a single month. If you filter based on the first/last few articles as I have for some of these example\n",
    "# solutions, you will find that you are instead looking at a small number of days. Here there might be a lot of similar reporting based on major climate\n",
    "# news events such as political meetings. As you add in more data, you might find that the sepration of different data points disappears - i.e. there\n",
    "# isn't much semantic difference between texts based purely on their sentiment.\n",
    "\n",
    "# The final note here - you might wonder why some of the points are very solid for being plotted with a low opacity. This is due to the nature of news\n",
    "# data. Many outlets will report on the same event, or even share syndicated content. As a result, it's not impossible to see repeated or very similar\n",
    "# texts that produce the same 2D embeddings - this is a feature of the data and not a bug!"
   ]
  },
  {
   "cell_type": "code",
   "execution_count": 23,
   "id": "7d1ee8d6-511e-43a1-a2a8-d96374b61c22",
   "metadata": {},
   "outputs": [
    {
     "data": {
      "image/png": "[encoded data removed]",
      "text/plain": [
       "<Figure size 640x480 with 1 Axes>"
      ]
     },
     "metadata": {},
     "output_type": "display_data"
    }
   ],
   "source": [
    "#4. Run BERTopic over the subsets and compare to topics over all articles.\n",
    "# Comparing the topic assignments can be done in a few ways. How close are they in meaning (both qualitatively and quantiatively)?\n",
    "# When comparing against the topics found over all the data, we may want to consider how much the labelling agrees.\n",
    "pos_topics,pos_probs = topic_model.fit_transform(df_pos.body,embeddings=embeddings[df_news[df_news.nlp_sent == 'positive'].index,:])\n",
    "pos_topic_info = topic_model.get_topic_info()\n",
    "pos_topic_vecs = topic_model.topic_embeddings_\n",
    "neu_topics,neu_probs = topic_model.fit_transform(df_neu.body,embeddings=embeddings[df_news[df_news.nlp_sent == 'neutral'].index,:])\n",
    "neu_topic_info = topic_model.get_topic_info()\n",
    "neu_topic_vecs = topic_model.topic_embeddings_\n",
    "neg_topics,neg_probs = topic_model.fit_transform(df_neg.body,embeddings=embeddings[df_news[df_news.nlp_sent == 'negative'].index,:])\n",
    "neg_topic_info = topic_model.get_topic_info()\n",
    "neg_topic_vecs = topic_model.topic_embeddings_\n",
    "\n",
    "# The first thing we'll try is plotting the topic centroids for each set, labelled with their topic number.\n",
    "vecs_2d = low_dim_model.fit_transform(np.vstack([pos_topic_vecs,neu_topic_vecs,neg_topic_vecs]))\n",
    "\n",
    "plt.scatter(vecs_2d[:len(pos_topic_info),0],vecs_2d[:len(pos_topic_info),1],color='green',alpha=0.3)\n",
    "plt.scatter(vecs_2d[len(pos_topic_info):len(pos_topic_info)+len(neu_topic_info),0],vecs_2d[len(pos_topic_info):len(pos_topic_info)\n",
    "    +len(neu_topic_info),1],color='gold',alpha=0.3)\n",
    "plt.scatter(vecs_2d[len(pos_topic_info)+len(neu_topic_info):len(pos_topic_info)+len(neu_topic_info)+len(neg_topic_info),0],vecs_2d[len(pos_topic_info)\n",
    "    +len(neu_topic_info):len(pos_topic_info)+len(neu_topic_info)+len(neg_topic_info),1],color='red',alpha=0.3)\n",
    "\n",
    "# Add labels to the points\n",
    "ax = plt.gca()\n",
    "for v,l in zip(vecs_2d,[f'pos_{n}' for n in pos_topic_info.Topic]+[f'neu_{n}' for n in neu_topic_info.Topic]+[f'neg_{n}' for n in neg_topic_info.Topic]):\n",
    "    ax.text(v[0],v[1],l)\n",
    "\n",
    "# This should show again that topic and sentiment can be unrelated - the majority neutral class will cover most of the space, although some of the\n",
    "# negative and positive topics might align. Using the topic labels we can get some pointers of those that might be similar to read."
   ]
  },
  {
   "cell_type": "code",
   "execution_count": 24,
   "id": "92562e67-637e-47ee-824a-20d33d11771e",
   "metadata": {},
   "outputs": [
    {
     "data": {
      "text/plain": [
       "'Labour\\'s shadow energy secretary also said Alok Sharma, the MP who is serving as the president of the climate change conference, is being undermined by his colleagues in the UK Government.\\n\\nMr Miliband spoke at the premiere of The Green Planet, a new television series by Sir David Attenborough.\\n\\nThe premiere was held in Glasgow on Sunday evening in the Cop26 summit\\'s Green Zone.\\n\\nMr Miliband told the PA news agency: \"We know what the task is, this decade - to halve global emissions.\\n\\n\"Now Glasgow may not get all the way there but we have to get as far as we possibly can.\\n\\n\"And that\\'s going to require tough conversations with some leaders who are not doing enough.\\n\\n\"The experts tell us no G20 country is doing enough, so everybody\\'s got to step up.\"\\n\\nHe continued: \"We don\\'t want a greenwash summit, we don\\'t want a climate delay summit, we want a climate delivery summit.\"\\n\\nThe former Labour leader said policies like the cut in air passenger duty, which was announced in the Chancellor\\'s latest Budget, could undermine the UK Government\\'s message on climate action.\\n\\n\"I think there has been a problem, which is that while Alok Sharma the Cop president-designate has been doing a good job, he\\'s been undermined by lots of his colleagues doing the opposite to climate action,\" he said.\\n\\n\"Whether it\\'s cutting air passenger duty for domestic flights, or the Cambo oil field or other things.\\n\\n\"What we need from the British government this week is not hot air, we need consistent leadership.\"'"
      ]
     },
     "execution_count": 24,
     "metadata": {},
     "output_type": "execute_result"
    }
   ],
   "source": [
    "pos_topic_info[pos_topic_info.Topic == 1].Representative_Docs.iloc[0][0][:]\n",
    "neu_topic_info[neu_topic_info.Topic == 0].Representative_Docs.iloc[0][0][:]\n",
    "neg_topic_info[neg_topic_info.Topic == 1].Representative_Docs.iloc[0][0][:]\n",
    "# For example, these three topics are all about US politics and report on Joe Biden's actions. It's not surprising that this is a theme that cuts\n",
    "# different sentiment classes. American politics generates a lot of news coverage and it can be very divisive."
   ]
  },
  {
   "cell_type": "code",
   "execution_count": 25,
   "id": "abf31bb5-dd17-44e7-a70d-1b2146e50d1e",
   "metadata": {},
   "outputs": [
    {
     "data": {
      "text/plain": [
       "0.6775673944283822"
      ]
     },
     "execution_count": 25,
     "metadata": {},
     "output_type": "execute_result"
    }
   ],
   "source": [
    "# To compare with the topics identified over the full dataset, we will use a method to check agreement. There are a few, but here we will try\n",
    "# NMI - normalised mutual information.\n",
    "from sklearn.metrics.cluster import normalized_mutual_info_score\n",
    "\n",
    "# We need to compile the topic labels as a single vector over all articles. It will be easiest to add this to the original dataframe to make sure we\n",
    "# apply the sentiment level topics to the right texts.\n",
    "df_news['full_topic'] = topics\n",
    "uri_to_sent_topic = {}  # The uris are unique identifiers, so we use these to make sure we are labelling the correct text.\n",
    "for (i,row),topic in zip(df_pos.iterrows(),pos_topics):\n",
    "    uri_to_sent_topic[row.uri] = topic+100\n",
    "for (i,row),topic in zip(df_neu.iterrows(),neu_topics):\n",
    "    uri_to_sent_topic[row.uri] = topic+200\n",
    "for (i,row),topic in zip(df_neg.iterrows(),neg_topics):\n",
    "    uri_to_sent_topic[row.uri] = topic+300  # I'm using this shift so we don't get confused between the different topic models, the precise labels don't matter.\n",
    "\n",
    "df_news['sent_topic'] = [uri_to_sent_topic[u] for u in df_news.uri]\n",
    "normalized_mutual_info_score(df_news.full_topic,df_news.sent_topic)\n",
    "# The NMI gives you a value in [0,1] where 0 indicates no alignment and 1 indicates perfect agreement. We're unlikely to see perfect agreement given\n",
    "# the different numbers of topics. You should find that there is a good level of agreement between the topics, which again points towards the themes\n",
    "# and sentiment being somewhat independent."
   ]
  },
  {
   "cell_type": "code",
   "execution_count": null,
   "id": "fef3867c-31af-41c3-8015-7fb354b344f3",
   "metadata": {},
   "outputs": [],
   "source": []
  }
 ],
 "metadata": {
  "kernelspec": {
   "display_name": "Python 3 (ipykernel)",
   "language": "python",
   "name": "python3"
  },
  "language_info": {
   "codemirror_mode": {
    "name": "ipython",
    "version": 3
   },
   "file_extension": ".py",
   "mimetype": "text/x-python",
   "name": "python",
   "nbconvert_exporter": "python",
   "pygments_lexer": "ipython3",
   "version": "3.12.9"
  }
 },
 "nbformat": 4,
 "nbformat_minor": 5
}

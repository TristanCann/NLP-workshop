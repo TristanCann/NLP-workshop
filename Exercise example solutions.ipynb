{
 "cells": [
  {
   "cell_type": "code",
   "execution_count": 1,
   "id": "a3f1ff8d",
   "metadata": {},
   "outputs": [],
   "source": [
    "import numpy as np\n",
    "import pandas as pd\n",
    "import sentence_transformers\n",
    "import nltk\n",
    "from sklearn.feature_extraction.text import CountVectorizer, TfidfVectorizer\n",
    "from sklearn.metrics.pairwise import cosine_similarity\n",
    "import re\n",
    "import bertopic\n",
    "import spacy\n",
    "from transformers import pipeline\n",
    "import string\n",
    "from nltk.stem import PorterStemmer"
   ]
  },
  {
   "cell_type": "code",
   "execution_count": 2,
   "id": "2d384809",
   "metadata": {},
   "outputs": [],
   "source": [
    "df_news = pd.read_json('data/cc_gw_news_blogs_2021-10-01_2021-10-31.json')"
   ]
  },
  {
   "cell_type": "markdown",
   "id": "0c1908d1",
   "metadata": {},
   "source": [
    "# Text cleaning and searching\n",
    "\n",
    "First, count the number of unique words in the titles of all articles in the dataframe."
   ]
  },
  {
   "cell_type": "code",
   "execution_count": 3,
   "id": "0d2fba54",
   "metadata": {},
   "outputs": [
    {
     "name": "stdout",
     "output_type": "stream",
     "text": [
      "There are 45391 unique words in all titles.\n"
     ]
    }
   ],
   "source": [
    "## Extract all titles, and make a single long string from them.\n",
    "titles = ' '.join(df_news.title.values)\n",
    "## Remove all punctuation.\n",
    "titles = titles.translate(str.maketrans('','',string.punctuation))\n",
    "## Apply stemming to the words - note this is optional depending on your personal definition of a word.\n",
    "ps = PorterStemmer()\n",
    "titles = [ps.stem(w) for w in titles.split()]\n",
    "## Converting to a set keeps only unique words, which we then count.\n",
    "print(f'There are {len(set(titles))} unique words in all titles.')"
   ]
  },
  {
   "cell_type": "markdown",
   "id": "c3a402a6",
   "metadata": {},
   "source": [
    "Which is the most common form of the root word `talk` in the titles? Hint: you may find the `collections` library useful."
   ]
  },
  {
   "cell_type": "code",
   "execution_count": 4,
   "id": "1fb142f6",
   "metadata": {},
   "outputs": [
    {
     "name": "stdout",
     "output_type": "stream",
     "text": [
      "Counter({'talks': 2704, 'talk': 744, 'talking': 115, 'talked': 7})\n"
     ]
    }
   ],
   "source": [
    "import collections\n",
    "## Extract all titles, and make a single long string from them.\n",
    "titles = ' '.join(df_news.title.values)\n",
    "## Remove all punctuation.\n",
    "titles = titles.translate(str.maketrans('','',string.punctuation))\n",
    "titles = titles.lower().split()\n",
    "## Apply stemming to the words.\n",
    "titles_stemmed = [ps.stem(w) for w in titles]\n",
    "\n",
    "## Now we have lists of raw and stemmed words.\n",
    "talk_fulls = []\n",
    "for full, stem in zip(titles,titles_stemmed):\n",
    "    if stem == 'talk':\n",
    "            talk_fulls.append(full)\n",
    "talk_count = collections.Counter(talk_fulls)\n",
    "print(talk_count)"
   ]
  },
  {
   "cell_type": "markdown",
   "id": "fe4b5b1d",
   "metadata": {},
   "source": [
    "How many of the headlines mention Justin Trudeau?"
   ]
  },
  {
   "cell_type": "code",
   "execution_count": 5,
   "id": "d56be8b0",
   "metadata": {},
   "outputs": [
    {
     "name": "stdout",
     "output_type": "stream",
     "text": [
      "640 titles mention Trudeau.\n"
     ]
    }
   ],
   "source": [
    "## We'll consider a headline as relevant if it mentions just his surname.\n",
    "count = 0\n",
    "for t in df_news.title:\n",
    "    if 'trudeau' in t.lower():\n",
    "        count += 1\n",
    "print(f'{count} titles mention Trudeau.')"
   ]
  },
  {
   "cell_type": "markdown",
   "id": "66cd2b0e",
   "metadata": {},
   "source": [
    "How many of the headlines mention one of the G7 countries?"
   ]
  },
  {
   "cell_type": "code",
   "execution_count": 6,
   "id": "6be8e9f4",
   "metadata": {},
   "outputs": [
    {
     "name": "stdout",
     "output_type": "stream",
     "text": [
      "13637 titles mention a G7 country.\n"
     ]
    }
   ],
   "source": [
    "## This query is not an exhaustive list - you could do more to match the UK and US.\n",
    "query = r'(Canada|Italy|France|Germany|Japan|United Kingdom|UK|United States|US|)'\n",
    "count = 0\n",
    "for t in df_news.title:\n",
    "    if np.any([m != '' for m in re.findall(query,t)]):\n",
    "        count += 1\n",
    "print(f'{count} titles mention a G7 country.')"
   ]
  },
  {
   "cell_type": "markdown",
   "id": "bfd61a14-cba0-41b1-bd22-59581c01be9b",
   "metadata": {},
   "source": [
    "How many of the articles reference one of the Conference of Parties (COP) events (in both headlines and bodies)?"
   ]
  },
  {
   "cell_type": "code",
   "execution_count": 7,
   "id": "73e466ac-a49c-4b48-91e5-3cfebeb834ab",
   "metadata": {},
   "outputs": [
    {
     "name": "stdout",
     "output_type": "stream",
     "text": [
      "39668 reference a COP event.\n"
     ]
    }
   ],
   "source": [
    "query = r'(cop\\d+)|(conference of parties \\d+)'  ## Note this is more complex than is strictly necessary, matching on \"cop\" or \"conference of parties\" would probably suffice, but does\n",
    "## ensure that we don't match erroneous words like \"cope\".\n",
    "title_mask = [np.any([m != '' for m in re.findall(query,t.lower())]) for t in df_news.title]\n",
    "body_mask = [np.any([m != '' for m in re.findall(query,t.lower())]) for t in df_news.body]\n",
    "relevant_articles = df_news[[t or b for t,b in zip(title_mask,body_mask)]]  ## This Boolean filter ensures we don't count any article that matches the title and body twice.\n",
    "\n",
    "print(f'{len(relevant_articles)} reference a COP event.')"
   ]
  },
  {
   "cell_type": "markdown",
   "id": "0b6fd51d",
   "metadata": {},
   "source": [
    "# Vectorisation and embeddings\n",
    "\n",
    "Find the five most similar headline among the first 1000 headlines to the provided text."
   ]
  },
  {
   "cell_type": "code",
   "execution_count": 8,
   "id": "6bc0784c",
   "metadata": {},
   "outputs": [
    {
     "data": {
      "application/vnd.jupyter.widget-view+json": {
       "model_id": "60dcdcc7710948038f8cafa272b6629f",
       "version_major": 2,
       "version_minor": 0
      },
      "text/plain": [
       "Batches:   0%|          | 0/32 [00:00<?, ?it/s]"
      ]
     },
     "metadata": {},
     "output_type": "display_data"
    },
    {
     "name": "stdout",
     "output_type": "stream",
     "text": [
      "The absence of key world leaders hangs over Biden's first G-20 0.47943187\n",
      "Biden reflects on American leadership, progress made at G-20 summit 0.4837181\n",
      "Biden reflects on American leadership, progress made at G-20 summit 0.4837181\n",
      "Biden reflects on American leadership, progress made at G-20 summit 0.4837181\n",
      "Biden reflects on American leadership, progress made at G-20 summit 0.4837181\n"
     ]
    }
   ],
   "source": [
    "sentence_model = sentence_transformers.SentenceTransformer('all-MiniLM-L6-v2')\n",
    "\n",
    "ref_text = ['President Biden visited other G7 leaders in London']\n",
    "sents = ref_text + [t for t in df_news.title[:1000]]\n",
    "embs = sentence_model.encode(sents,show_progress_bar=True)\n",
    "\n",
    "## We can calculate pairwise similarity easily.\n",
    "sim = cosine_similarity(embs)\n",
    "## The first row gives the similarity scores we care about. Find the maximal elements.\n",
    "matches = np.argsort(sim[0])\n",
    "for i in matches[-6:-1]:\n",
    "    print(sents[i],sim[0,i])"
   ]
  },
  {
   "cell_type": "markdown",
   "id": "68c6fc55",
   "metadata": {},
   "source": [
    "Which of the first 1000 articles uses *climate* the most?"
   ]
  },
  {
   "cell_type": "code",
   "execution_count": 9,
   "id": "974d5919",
   "metadata": {},
   "outputs": [
    {
     "name": "stdout",
     "output_type": "stream",
     "text": [
      "The 576th article uses climate 159 times\n"
     ]
    }
   ],
   "source": [
    "vectorizer = CountVectorizer(stop_words='english')\n",
    "X_1k = vectorizer.fit_transform([t for t in df_news.body[:1000]])\n",
    "\n",
    "## We need to get the feature names from vectorizer to find out which column of X_1k to check.\n",
    "clim_col = list(vectorizer.get_feature_names_out()).index('climate')\n",
    "\n",
    "max_doc = np.argmax(X_1k[:,clim_col])\n",
    "print(f'The {max_doc}th article uses climate {X_1k[max_doc,clim_col]} times')"
   ]
  },
  {
   "cell_type": "markdown",
   "id": "47936eb9",
   "metadata": {},
   "source": [
    "# Topic modelling\n",
    "\n",
    "Fit a topic model over the first 1000 article bodies using the default BERTopic settings. Find the list of row numbers in the dataset that are about the president of Zimbabwe according to the topic model."
   ]
  },
  {
   "cell_type": "code",
   "execution_count": 10,
   "id": "0050a6b0",
   "metadata": {},
   "outputs": [
    {
     "data": {
      "text/html": [
       "<div>\n",
       "<style scoped>\n",
       "    .dataframe tbody tr th:only-of-type {\n",
       "        vertical-align: middle;\n",
       "    }\n",
       "\n",
       "    .dataframe tbody tr th {\n",
       "        vertical-align: top;\n",
       "    }\n",
       "\n",
       "    .dataframe thead th {\n",
       "        text-align: right;\n",
       "    }\n",
       "</style>\n",
       "<table border=\"1\" class=\"dataframe\">\n",
       "  <thead>\n",
       "    <tr style=\"text-align: right;\">\n",
       "      <th></th>\n",
       "      <th>Topic</th>\n",
       "      <th>Count</th>\n",
       "      <th>Name</th>\n",
       "      <th>Representation</th>\n",
       "      <th>Representative_Docs</th>\n",
       "    </tr>\n",
       "  </thead>\n",
       "  <tbody>\n",
       "    <tr>\n",
       "      <th>0</th>\n",
       "      <td>-1</td>\n",
       "      <td>187</td>\n",
       "      <td>-1_the_of_and_to</td>\n",
       "      <td>[the, of, and, to, in, that, is, on, for, with]</td>\n",
       "      <td>[Dr. Hoesung Lee, chair of the IPCC (Intergove...</td>\n",
       "    </tr>\n",
       "    <tr>\n",
       "      <th>1</th>\n",
       "      <td>0</td>\n",
       "      <td>104</td>\n",
       "      <td>0_the_of_and_in</td>\n",
       "      <td>[the, of, and, in, to, climate, is, that, on, ...</td>\n",
       "      <td>[More than three decades have passed since for...</td>\n",
       "    </tr>\n",
       "    <tr>\n",
       "      <th>2</th>\n",
       "      <td>1</td>\n",
       "      <td>74</td>\n",
       "      <td>1_g20_trudeau_to_for</td>\n",
       "      <td>[g20, trudeau, to, for, said, leaders, was, by...</td>\n",
       "      <td>[Canada wanted a stronger and more ambitious a...</td>\n",
       "    </tr>\n",
       "    <tr>\n",
       "      <th>3</th>\n",
       "      <td>2</td>\n",
       "      <td>47</td>\n",
       "      <td>2_he_biden_pope_his</td>\n",
       "      <td>[he, biden, pope, his, francis, knew, the, my,...</td>\n",
       "      <td>[A visibly moved President Joe Biden on Sunday...</td>\n",
       "    </tr>\n",
       "    <tr>\n",
       "      <th>4</th>\n",
       "      <td>3</td>\n",
       "      <td>46</td>\n",
       "      <td>3_the_to_g20_countries</td>\n",
       "      <td>[the, to, g20, countries, of, that, and, for, ...</td>\n",
       "      <td>[ROME (AP) - Leaders of the world's biggest ec...</td>\n",
       "    </tr>\n",
       "    <tr>\n",
       "      <th>5</th>\n",
       "      <td>4</td>\n",
       "      <td>38</td>\n",
       "      <td>4_to_the_will_climate</td>\n",
       "      <td>[to, the, will, climate, and, johnson, in, of,...</td>\n",
       "      <td>[Prime Minister will warn it is 'one minute to...</td>\n",
       "    </tr>\n",
       "    <tr>\n",
       "      <th>6</th>\n",
       "      <td>5</td>\n",
       "      <td>37</td>\n",
       "      <td>5_biden_he_said_his</td>\n",
       "      <td>[biden, he, said, his, about, pump, to, produc...</td>\n",
       "      <td>[President Biden said on Sunday that the world...</td>\n",
       "    </tr>\n",
       "    <tr>\n",
       "      <th>7</th>\n",
       "      <td>6</td>\n",
       "      <td>34</td>\n",
       "      <td>6_and_we_the_of</td>\n",
       "      <td>[and, we, the, of, to, our, vaccines, in, glob...</td>\n",
       "      <td>[ROME, Oct. 31 (Xinhua) -- The 16th Group of 2...</td>\n",
       "    </tr>\n",
       "    <tr>\n",
       "      <th>8</th>\n",
       "      <td>7</td>\n",
       "      <td>32</td>\n",
       "      <td>7_to_and_the_of</td>\n",
       "      <td>[to, and, the, of, stuff, in, new, for, is, will]</td>\n",
       "      <td>[Related video: The Government commits a massi...</td>\n",
       "    </tr>\n",
       "    <tr>\n",
       "      <th>9</th>\n",
       "      <td>8</td>\n",
       "      <td>29</td>\n",
       "      <td>8_to_countries_climate_and</td>\n",
       "      <td>[to, countries, climate, and, action, change, ...</td>\n",
       "      <td>[Humanity has \"run down the clock\" on climate ...</td>\n",
       "    </tr>\n",
       "    <tr>\n",
       "      <th>10</th>\n",
       "      <td>9</td>\n",
       "      <td>28</td>\n",
       "      <td>9_to_and_westpac_countries</td>\n",
       "      <td>[to, and, westpac, countries, the, for, in, cl...</td>\n",
       "      <td>[In a speech to political leaders and delegate...</td>\n",
       "    </tr>\n",
       "    <tr>\n",
       "      <th>11</th>\n",
       "      <td>10</td>\n",
       "      <td>25</td>\n",
       "      <td>10_technologies_morrison_and_low</td>\n",
       "      <td>[technologies, morrison, and, low, emissions, ...</td>\n",
       "      <td>[Scott Morrison has stressed the need to ensur...</td>\n",
       "    </tr>\n",
       "    <tr>\n",
       "      <th>12</th>\n",
       "      <td>11</td>\n",
       "      <td>24</td>\n",
       "      <td>11_the_to_of_you</td>\n",
       "      <td>[the, to, of, you, and, in, have, is, this, that]</td>\n",
       "      <td>[As the global climate summit formally opened ...</td>\n",
       "    </tr>\n",
       "    <tr>\n",
       "      <th>13</th>\n",
       "      <td>12</td>\n",
       "      <td>24</td>\n",
       "      <td>12_figueres_she_two_paris</td>\n",
       "      <td>[figueres, she, two, paris, in, the, years, un...</td>\n",
       "      <td>[GLASGOW, Scotland (AP) -- Christiana Figueres...</td>\n",
       "    </tr>\n",
       "    <tr>\n",
       "      <th>14</th>\n",
       "      <td>13</td>\n",
       "      <td>24</td>\n",
       "      <td>13_doing_we_miliband_want</td>\n",
       "      <td>[doing, we, miliband, want, undermined, air, p...</td>\n",
       "      <td>[Labour's shadow energy secretary also said Al...</td>\n",
       "    </tr>\n",
       "    <tr>\n",
       "      <th>15</th>\n",
       "      <td>14</td>\n",
       "      <td>24</td>\n",
       "      <td>14_biden_the_to_on</td>\n",
       "      <td>[biden, the, to, on, president, with, his, and...</td>\n",
       "      <td>[ROME (AP) -- President Joe Biden wrapped up h...</td>\n",
       "    </tr>\n",
       "    <tr>\n",
       "      <th>16</th>\n",
       "      <td>15</td>\n",
       "      <td>21</td>\n",
       "      <td>15_the_prince_charles_to</td>\n",
       "      <td>[the, prince, charles, to, of, he, is, in, and...</td>\n",
       "      <td>[Charles is expected to call for a \"vast milit...</td>\n",
       "    </tr>\n",
       "    <tr>\n",
       "      <th>17</th>\n",
       "      <td>16</td>\n",
       "      <td>19</td>\n",
       "      <td>16_energy_climate_to_the</td>\n",
       "      <td>[energy, climate, to, the, and, biden, plan, b...</td>\n",
       "      <td>[WASHINGTON -- President Joe Biden heads to a ...</td>\n",
       "    </tr>\n",
       "    <tr>\n",
       "      <th>18</th>\n",
       "      <td>17</td>\n",
       "      <td>19</td>\n",
       "      <td>17_green_life_planet_the</td>\n",
       "      <td>[green, life, planet, the, plants, series, sir...</td>\n",
       "      <td>[Sir David Attenborough's latest landmark natu...</td>\n",
       "    </tr>\n",
       "    <tr>\n",
       "      <th>19</th>\n",
       "      <td>18</td>\n",
       "      <td>18</td>\n",
       "      <td>18_to_the_draghi_we</td>\n",
       "      <td>[to, the, draghi, we, that, and, of, g20, coun...</td>\n",
       "      <td>[* G20 chair Draghi hails summit as success\\n\\...</td>\n",
       "    </tr>\n",
       "    <tr>\n",
       "      <th>20</th>\n",
       "      <td>19</td>\n",
       "      <td>18</td>\n",
       "      <td>19_supply_biden_and_the</td>\n",
       "      <td>[supply, biden, and, the, to, of, ports, chain...</td>\n",
       "      <td>[President Joe Biden wrapped up his time at th...</td>\n",
       "    </tr>\n",
       "    <tr>\n",
       "      <th>21</th>\n",
       "      <td>20</td>\n",
       "      <td>17</td>\n",
       "      <td>20_summit_sunday_oct_the</td>\n",
       "      <td>[summit, sunday, oct, the, 2021, 31, rome, g20...</td>\n",
       "      <td>[By NICOLE WINFIELD, DAVID MCHUGH and KARL RIT...</td>\n",
       "    </tr>\n",
       "    <tr>\n",
       "      <th>22</th>\n",
       "      <td>21</td>\n",
       "      <td>16</td>\n",
       "      <td>21_health_air_pollution_ride</td>\n",
       "      <td>[health, air, pollution, ride, london, hospita...</td>\n",
       "      <td>[The 39 activists, members of Ride For Their L...</td>\n",
       "    </tr>\n",
       "    <tr>\n",
       "      <th>23</th>\n",
       "      <td>22</td>\n",
       "      <td>16</td>\n",
       "      <td>22_americans_percent_democrats_the</td>\n",
       "      <td>[americans, percent, democrats, the, of, in, t...</td>\n",
       "      <td>[Across the country, Americans continue to gre...</td>\n",
       "    </tr>\n",
       "    <tr>\n",
       "      <th>24</th>\n",
       "      <td>23</td>\n",
       "      <td>16</td>\n",
       "      <td>23_the_rome_to_in</td>\n",
       "      <td>[the, rome, to, in, of, group, degrees, french...</td>\n",
       "      <td>[ROME -- French President Emmanuel Macron said...</td>\n",
       "    </tr>\n",
       "    <tr>\n",
       "      <th>25</th>\n",
       "      <td>24</td>\n",
       "      <td>15</td>\n",
       "      <td>24_figueres_she_two_paris</td>\n",
       "      <td>[figueres, she, two, paris, in, the, uns, year...</td>\n",
       "      <td>[GLASGOW, Scotland -- Christiana Figueres know...</td>\n",
       "    </tr>\n",
       "    <tr>\n",
       "      <th>26</th>\n",
       "      <td>25</td>\n",
       "      <td>12</td>\n",
       "      <td>25_wang_china_the_cooperation</td>\n",
       "      <td>[wang, china, the, cooperation, and, of, xi, d...</td>\n",
       "      <td>[The Netherlands' cooperation with China has y...</td>\n",
       "    </tr>\n",
       "    <tr>\n",
       "      <th>27</th>\n",
       "      <td>26</td>\n",
       "      <td>12</td>\n",
       "      <td>26_the_zimbabwe_of_president</td>\n",
       "      <td>[the, zimbabwe, of, president, and, to, in, ou...</td>\n",
       "      <td>[President Muhammadu Buhari had a very success...</td>\n",
       "    </tr>\n",
       "    <tr>\n",
       "      <th>28</th>\n",
       "      <td>27</td>\n",
       "      <td>12</td>\n",
       "      <td>27_modi_prime_the_of</td>\n",
       "      <td>[modi, prime, the, of, summit, minister, will,...</td>\n",
       "      <td>[Glasgow, Nov 1 (PTI) Prime Minister Narendra ...</td>\n",
       "    </tr>\n",
       "    <tr>\n",
       "      <th>29</th>\n",
       "      <td>28</td>\n",
       "      <td>12</td>\n",
       "      <td>28_trcaire_climate_ireland_is</td>\n",
       "      <td>[trcaire, climate, ireland, is, impacts, the, ...</td>\n",
       "      <td>[Ireland is falling seriously short in its con...</td>\n",
       "    </tr>\n",
       "  </tbody>\n",
       "</table>\n",
       "</div>"
      ],
      "text/plain": [
       "    Topic  Count                                Name  \\\n",
       "0      -1    187                    -1_the_of_and_to   \n",
       "1       0    104                     0_the_of_and_in   \n",
       "2       1     74                1_g20_trudeau_to_for   \n",
       "3       2     47                 2_he_biden_pope_his   \n",
       "4       3     46              3_the_to_g20_countries   \n",
       "5       4     38               4_to_the_will_climate   \n",
       "6       5     37                 5_biden_he_said_his   \n",
       "7       6     34                     6_and_we_the_of   \n",
       "8       7     32                     7_to_and_the_of   \n",
       "9       8     29          8_to_countries_climate_and   \n",
       "10      9     28          9_to_and_westpac_countries   \n",
       "11     10     25    10_technologies_morrison_and_low   \n",
       "12     11     24                    11_the_to_of_you   \n",
       "13     12     24           12_figueres_she_two_paris   \n",
       "14     13     24           13_doing_we_miliband_want   \n",
       "15     14     24                  14_biden_the_to_on   \n",
       "16     15     21            15_the_prince_charles_to   \n",
       "17     16     19            16_energy_climate_to_the   \n",
       "18     17     19            17_green_life_planet_the   \n",
       "19     18     18                 18_to_the_draghi_we   \n",
       "20     19     18             19_supply_biden_and_the   \n",
       "21     20     17            20_summit_sunday_oct_the   \n",
       "22     21     16        21_health_air_pollution_ride   \n",
       "23     22     16  22_americans_percent_democrats_the   \n",
       "24     23     16                   23_the_rome_to_in   \n",
       "25     24     15           24_figueres_she_two_paris   \n",
       "26     25     12       25_wang_china_the_cooperation   \n",
       "27     26     12        26_the_zimbabwe_of_president   \n",
       "28     27     12                27_modi_prime_the_of   \n",
       "29     28     12       28_trcaire_climate_ireland_is   \n",
       "\n",
       "                                       Representation  \\\n",
       "0     [the, of, and, to, in, that, is, on, for, with]   \n",
       "1   [the, of, and, in, to, climate, is, that, on, ...   \n",
       "2   [g20, trudeau, to, for, said, leaders, was, by...   \n",
       "3   [he, biden, pope, his, francis, knew, the, my,...   \n",
       "4   [the, to, g20, countries, of, that, and, for, ...   \n",
       "5   [to, the, will, climate, and, johnson, in, of,...   \n",
       "6   [biden, he, said, his, about, pump, to, produc...   \n",
       "7   [and, we, the, of, to, our, vaccines, in, glob...   \n",
       "8   [to, and, the, of, stuff, in, new, for, is, will]   \n",
       "9   [to, countries, climate, and, action, change, ...   \n",
       "10  [to, and, westpac, countries, the, for, in, cl...   \n",
       "11  [technologies, morrison, and, low, emissions, ...   \n",
       "12  [the, to, of, you, and, in, have, is, this, that]   \n",
       "13  [figueres, she, two, paris, in, the, years, un...   \n",
       "14  [doing, we, miliband, want, undermined, air, p...   \n",
       "15  [biden, the, to, on, president, with, his, and...   \n",
       "16  [the, prince, charles, to, of, he, is, in, and...   \n",
       "17  [energy, climate, to, the, and, biden, plan, b...   \n",
       "18  [green, life, planet, the, plants, series, sir...   \n",
       "19  [to, the, draghi, we, that, and, of, g20, coun...   \n",
       "20  [supply, biden, and, the, to, of, ports, chain...   \n",
       "21  [summit, sunday, oct, the, 2021, 31, rome, g20...   \n",
       "22  [health, air, pollution, ride, london, hospita...   \n",
       "23  [americans, percent, democrats, the, of, in, t...   \n",
       "24  [the, rome, to, in, of, group, degrees, french...   \n",
       "25  [figueres, she, two, paris, in, the, uns, year...   \n",
       "26  [wang, china, the, cooperation, and, of, xi, d...   \n",
       "27  [the, zimbabwe, of, president, and, to, in, ou...   \n",
       "28  [modi, prime, the, of, summit, minister, will,...   \n",
       "29  [trcaire, climate, ireland, is, impacts, the, ...   \n",
       "\n",
       "                                  Representative_Docs  \n",
       "0   [Dr. Hoesung Lee, chair of the IPCC (Intergove...  \n",
       "1   [More than three decades have passed since for...  \n",
       "2   [Canada wanted a stronger and more ambitious a...  \n",
       "3   [A visibly moved President Joe Biden on Sunday...  \n",
       "4   [ROME (AP) - Leaders of the world's biggest ec...  \n",
       "5   [Prime Minister will warn it is 'one minute to...  \n",
       "6   [President Biden said on Sunday that the world...  \n",
       "7   [ROME, Oct. 31 (Xinhua) -- The 16th Group of 2...  \n",
       "8   [Related video: The Government commits a massi...  \n",
       "9   [Humanity has \"run down the clock\" on climate ...  \n",
       "10  [In a speech to political leaders and delegate...  \n",
       "11  [Scott Morrison has stressed the need to ensur...  \n",
       "12  [As the global climate summit formally opened ...  \n",
       "13  [GLASGOW, Scotland (AP) -- Christiana Figueres...  \n",
       "14  [Labour's shadow energy secretary also said Al...  \n",
       "15  [ROME (AP) -- President Joe Biden wrapped up h...  \n",
       "16  [Charles is expected to call for a \"vast milit...  \n",
       "17  [WASHINGTON -- President Joe Biden heads to a ...  \n",
       "18  [Sir David Attenborough's latest landmark natu...  \n",
       "19  [* G20 chair Draghi hails summit as success\\n\\...  \n",
       "20  [President Joe Biden wrapped up his time at th...  \n",
       "21  [By NICOLE WINFIELD, DAVID MCHUGH and KARL RIT...  \n",
       "22  [The 39 activists, members of Ride For Their L...  \n",
       "23  [Across the country, Americans continue to gre...  \n",
       "24  [ROME -- French President Emmanuel Macron said...  \n",
       "25  [GLASGOW, Scotland -- Christiana Figueres know...  \n",
       "26  [The Netherlands' cooperation with China has y...  \n",
       "27  [President Muhammadu Buhari had a very success...  \n",
       "28  [Glasgow, Nov 1 (PTI) Prime Minister Narendra ...  \n",
       "29  [Ireland is falling seriously short in its con...  "
      ]
     },
     "execution_count": 10,
     "metadata": {},
     "output_type": "execute_result"
    }
   ],
   "source": [
    "topic_model = bertopic.BERTopic()\n",
    "topics, probs = topic_model.fit_transform(df_news.body[:1000])\n",
    "df_topics = topic_model.get_topic_info()\n",
    "df_topics"
   ]
  },
  {
   "cell_type": "code",
   "execution_count": 11,
   "id": "2f4b5717",
   "metadata": {},
   "outputs": [
    {
     "name": "stdout",
     "output_type": "stream",
     "text": [
      "Row ids corresponding to the president of Zimbabwe are: [2, 25, 110, 248, 364, 500, 575, 596, 597, 698, 842, 856]\n"
     ]
    }
   ],
   "source": [
    "## Note the that the topic label here is dependent on a particular iteration of the topic model (unless you fix the random state)\n",
    "## The topic number should be around 25 in most cases however.\n",
    "print(f'Row ids corresponding to the president of Zimbabwe are: {[i for i,t in enumerate(topics) if t == 25]}')"
   ]
  },
  {
   "cell_type": "markdown",
   "id": "9d3ebb99",
   "metadata": {},
   "source": [
    "The topics and probabilities assigned by BERTopic correspond to the best fit. Using the probabilities return for each text assigned to the topics in your previous model, find the topics with the highest and lowest mean probability. Do these values tell you anything about the topics highlighted?"
   ]
  },
  {
   "cell_type": "code",
   "execution_count": 12,
   "id": "c7b70993",
   "metadata": {},
   "outputs": [
    {
     "name": "stdout",
     "output_type": "stream",
     "text": [
      "The topic with lowest average probability is -1 with probability 0.0.\n",
      "The topic with highest average probability is 25 with probability 0.9983133761515558.\n"
     ]
    }
   ],
   "source": [
    "## First we convert topics and probs to a more convenient format.\n",
    "## This gives a list of probabilities for each topic label.\n",
    "topic_probs = {}\n",
    "for t,p in zip(topics,probs):\n",
    "        if not topic_probs.get(t):\n",
    "            topic_probs[t] = []\n",
    "        topic_probs[t].append(p)\n",
    "\n",
    "## Next we average them and record the maximum and minimum we've seen.\n",
    "max_avg_topic = -2\n",
    "min_avg_topic = -2\n",
    "max_avg = 0\n",
    "min_avg = 1\n",
    "for t in topic_probs:\n",
    "    avg = np.mean(topic_probs[t])\n",
    "    if avg > max_avg:\n",
    "        max_avg_topic = t\n",
    "        max_avg = avg\n",
    "    if avg < min_avg:\n",
    "        min_avg_topic = t\n",
    "        min_avg = avg\n",
    "\n",
    "## This is almost certainly going to be topic -1 with probability 0 - BERTopic doesn't record probabilities for the junk topic.\n",
    "## This is because they don't really make sense.\n",
    "print(f'The topic with lowest average probability is {min_avg_topic} with probability {min_avg}.')\n",
    "## This is probably one of the smaller topics with a very high probability. Be careful of overfitting to duplicate or\n",
    "## very similar texts in your dataset causing the model to converge anomalously.\n",
    "print(f'The topic with highest average probability is {max_avg_topic} with probability {max_avg}.')"
   ]
  },
  {
   "cell_type": "markdown",
   "id": "78a9f791",
   "metadata": {},
   "source": [
    "# Text classification\n",
    "\n",
    "Find the 10 most common entities across the first 1000 articles. Hint: you may find the `collections` library useful."
   ]
  },
  {
   "cell_type": "code",
   "execution_count": 13,
   "id": "73e3037d",
   "metadata": {},
   "outputs": [
    {
     "name": "stderr",
     "output_type": "stream",
     "text": [
      "1000it [04:27,  3.73it/s]"
     ]
    },
    {
     "name": "stdout",
     "output_type": "stream",
     "text": [
      "The ten most common entities are [('Biden', 2169), ('Glasgow', 1694), ('G20', 1660), ('Rome', 1533), ('China', 1340), ('Sunday', 1130), ('U.S.', 935), ('G-20', 776), ('Paris', 686), ('first', 646)].\n"
     ]
    },
    {
     "name": "stderr",
     "output_type": "stream",
     "text": [
      "\n"
     ]
    }
   ],
   "source": [
    "import collections\n",
    "import tqdm  ## This displays a progress bar to track efficiency.\n",
    "\n",
    "nlp = spacy.load(\"en_core_web_sm\")\n",
    "\n",
    "ents = []\n",
    "docs = []\n",
    "for i, row in tqdm.tqdm(df_news[:1000].iterrows()):\n",
    "    doc = nlp(row.body)\n",
    "    docs.append(doc)  ## Saving these to avoid repeating the calculation.\n",
    "    ents += [e.text for e in doc.ents]  ## Note that taking the text is required, otherwise the entities will not be matched.\n",
    "ent_counts = collections.Counter(ents)\n",
    "print(f'The ten most common entities are {ent_counts.most_common(10)}.')"
   ]
  },
  {
   "cell_type": "markdown",
   "id": "7d62068e",
   "metadata": {},
   "source": [
    "Different part of speech tags will appear with different frequencies. Find the articles among the first 1000 articles that that have the highest and lowest proportion of proper nouns in their bodies."
   ]
  },
  {
   "cell_type": "code",
   "execution_count": 14,
   "id": "916ddeec",
   "metadata": {},
   "outputs": [
    {
     "name": "stdout",
     "output_type": "stream",
     "text": [
      "Article 858 has the lowest proportion of proper nouns: 0.001976284584980237.\n",
      "Article 371 has the lowest proportion of proper nouns: 0.7074380165289256.\n"
     ]
    }
   ],
   "source": [
    "max_prop = 0\n",
    "min_prop = 1\n",
    "max_prop_id = -1\n",
    "min_prop_id = -1\n",
    "\n",
    "for i,doc in enumerate(docs):\n",
    "    pns = 0\n",
    "    for t in doc:\n",
    "        if t.pos_ == 'PROPN':\n",
    "            pns += 1\n",
    "    prop = pns/len(doc)\n",
    "    \n",
    "    if prop > max_prop:\n",
    "        max_prop = prop\n",
    "        max_prop_id = i\n",
    "    if prop < min_prop:\n",
    "        min_prop = prop\n",
    "        min_prop_id = i\n",
    "\n",
    "print(f'Article {min_prop_id} has the lowest proportion of proper nouns: {min_prop}.')\n",
    "print(f'Article {max_prop_id} has the lowest proportion of proper nouns: {max_prop}.') "
   ]
  },
  {
   "cell_type": "markdown",
   "id": "0552aa98",
   "metadata": {},
   "source": [
    "News media is sometimes criticised as focused on negative stories. How are the sentiment labels and class probabilities split over the first 1000 headlines? Does this trend tell you anything about the classes or your chosen model?"
   ]
  },
  {
   "cell_type": "code",
   "execution_count": 15,
   "id": "8f9cddb5",
   "metadata": {},
   "outputs": [
    {
     "name": "stderr",
     "output_type": "stream",
     "text": [
      "Some weights of the model checkpoint at cardiffnlp/twitter-roberta-base-sentiment-latest were not used when initializing RobertaForSequenceClassification: ['roberta.pooler.dense.bias', 'roberta.pooler.dense.weight']\n",
      "- This IS expected if you are initializing RobertaForSequenceClassification from the checkpoint of a model trained on another task or with another architecture (e.g. initializing a BertForSequenceClassification model from a BertForPreTraining model).\n",
      "- This IS NOT expected if you are initializing RobertaForSequenceClassification from the checkpoint of a model that you expect to be exactly identical (initializing a BertForSequenceClassification model from a BertForSequenceClassification model).\n",
      "Device set to use cpu\n"
     ]
    },
    {
     "name": "stdout",
     "output_type": "stream",
     "text": [
      "Proportion of positive headlines: 0.115\n",
      "Proportion of neutral headlines: 0.712\n",
      "Proportion of negative headlines: 0.173\n"
     ]
    },
    {
     "data": {
      "image/png": "[encoded data removed]",
      "text/plain": [
       "<Figure size 640x480 with 1 Axes>"
      ]
     },
     "metadata": {},
     "output_type": "display_data"
    }
   ],
   "source": [
    "import matplotlib.pyplot as plt\n",
    "## The example model used earlier in these notes doesn't give a range of sentiment scores and rarely assigns neutral.\n",
    "## Instead it gives a positive or negative label with a probability of being positive or negative.\n",
    "## We should use a different model - the Cardiff NLP group is a good source.\n",
    "\n",
    "sentiment_analysis = pipeline(\"sentiment-analysis\",model=\"cardiffnlp/twitter-roberta-base-sentiment-latest\")\n",
    "sents = [sentiment_analysis(t)[0] for t in df_news[:1000].title]\n",
    "\n",
    "## Each score is a dict, label and probability. We need to split them into pos, neu, neg.\n",
    "pos,neu,neg = [],[],[]\n",
    "for s in sents:\n",
    "    if s['label'] == 'positive':\n",
    "        pos.append(s['score'])\n",
    "    elif s['label'] == 'neutral':\n",
    "        neu.append(s['score'])\n",
    "    else:\n",
    "        neg.append(s['score'])\n",
    "\n",
    "print(f'Proportion of positive headlines: {len(pos)/1000}')\n",
    "print(f'Proportion of neutral headlines: {len(neu)/1000}')\n",
    "print(f'Proportion of negative headlines: {len(neg)/1000}')\n",
    "\n",
    "plt.hist(pos,label='Positive',density=True,alpha=0.3)\n",
    "plt.hist(neu,label='Neutral',density=True,alpha=0.3)\n",
    "plt.hist(neg,label='Negative',density=True,alpha=0.3)\n",
    "plt.legend()\n",
    "plt.show()\n",
    "\n",
    "## We see that most of the headlines are reported as neutral, with slightly more negative than positive.\n",
    "## The model may be less certain of the negative labels (some slight skew in the distribution of probabilities).\n",
    "## This may be an indication that it is conflating 'neutral' and 'not sure', but this is not conclusive.\n",
    "## Analysis based on neutral labels should therefore be considered carefully to ensure there are no confounding factors."
   ]
  },
  {
   "cell_type": "code",
   "execution_count": null,
   "id": "85a6d00b",
   "metadata": {},
   "outputs": [],
   "source": []
  }
 ],
 "metadata": {
  "kernelspec": {
   "display_name": "Python 3 (ipykernel)",
   "language": "python",
   "name": "python3"
  },
  "language_info": {
   "codemirror_mode": {
    "name": "ipython",
    "version": 3
   },
   "file_extension": ".py",
   "mimetype": "text/x-python",
   "name": "python",
   "nbconvert_exporter": "python",
   "pygments_lexer": "ipython3",
   "version": "3.12.9"
  }
 },
 "nbformat": 4,
 "nbformat_minor": 5
}
